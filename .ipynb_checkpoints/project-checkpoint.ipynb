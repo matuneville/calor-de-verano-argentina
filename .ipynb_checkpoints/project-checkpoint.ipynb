{
 "cells": [
  {
   "cell_type": "markdown",
   "id": "ceefad3a",
   "metadata": {},
   "source": [
    "# Titulo\n",
    "\n",
    "Este verano del 2023 viene siendo muy intenso para la mayoría de gente. Muchos, incluido yo, hemos creído más de una vez que este Enero y Febrero han sido de los más calidos históricamente. Incluso salen a menudo noticias acerca del cambio climático y cómo las temperaturas máximas medias son cada verano peor que el anterior.  \n",
    "\n",
    "Sin embargo, me percaté de que cada año que pasa, vuelvo a pensar lo mismo: \"No recuerdo nunca haber vivido un verano tán cálido...\". Por lo que me propuse buscar los datos históricos de las temperaturas medias de Buenos Aires.  \n",
    "\n",
    "Pude encontrar un dataset considerablemente completo, con un historial de temperaturas registradas provincia por provincia de Argentina en una web del gobierno en [este link](https://datos.gob.ar/dataset/smn-estadisticas-climaticas-normales). Pero desafortunadamente el registro llegaba hasta el año 2010 por lo que no me es de gran utilidad.\n",
    "\n",
    "Luego encontré en una web de la Ciudad este dataset con las temperaturas máximas y mínimas medias de cada mes entre 1991 y 2023, el más actualizado hasta la actualidad. Por lo tanto, ante la imposibilidad de encontrar información suficiente sobre las temperaturas históricas de la provincia de Buenos Aires, me decidí por realizar el proyecto con el registro de CABA. [Fuente aquí](https://www.estadisticaciudad.gob.ar/eyc/?p=27702).\n",
    "\n",
    "## Data parsing\n"
   ]
  },
  {
   "cell_type": "code",
   "execution_count": null,
   "id": "6a865444",
   "metadata": {},
   "outputs": [],
   "source": []
  }
 ],
 "metadata": {
  "kernelspec": {
   "display_name": "Python 3 (ipykernel)",
   "language": "python",
   "name": "python3"
  },
  "language_info": {
   "codemirror_mode": {
    "name": "ipython",
    "version": 3
   },
   "file_extension": ".py",
   "mimetype": "text/x-python",
   "name": "python",
   "nbconvert_exporter": "python",
   "pygments_lexer": "ipython3",
   "version": "3.10.6"
  }
 },
 "nbformat": 4,
 "nbformat_minor": 5
}
